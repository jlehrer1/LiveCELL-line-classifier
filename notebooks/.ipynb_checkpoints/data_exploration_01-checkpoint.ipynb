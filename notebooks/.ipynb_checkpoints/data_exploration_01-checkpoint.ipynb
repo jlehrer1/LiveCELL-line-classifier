{
 "cells": [
  {
   "cell_type": "code",
   "execution_count": 1,
   "id": "61d53854",
   "metadata": {},
   "outputs": [],
   "source": [
    "import pandas as pd \n",
    "import numpy as np \n",
    "import torch\n",
    "import os "
   ]
  },
  {
   "cell_type": "code",
   "execution_count": 2,
   "id": "b3624c2b",
   "metadata": {},
   "outputs": [],
   "source": [
    "mapping = {\n",
    "    \"A172\": \"Glioblastoma\",\n",
    "    \"BT474\": \"Ductal Carcinoma\",\n",
    "    \"BV2\": \"Microglial\",\n",
    "    \"Huh7\": \"Tumorigenic\",\n",
    "    \"MCF7\": \"Breast Cancer\",\n",
    "    \"SHSY5Y\": \"Neuroblastoma\",\n",
    "    \"SkBr3\": \"Adenocarcinoma\",\n",
    "    \"SKOV3\": \"Adenocarcinoma\"\n",
    "}"
   ]
  },
  {
   "cell_type": "code",
   "execution_count": 3,
   "id": "60c23ef9",
   "metadata": {},
   "outputs": [
    {
     "name": "stdout",
     "output_type": "stream",
     "text": [
      "Number of images of Glioblastoma is 608\n",
      "Number of images of Ductal Carcinoma is 672\n",
      "Number of images of Microglial is 608\n",
      "Number of images of Tumorigenic is 600\n",
      "Number of images of Breast Cancer is 735\n",
      "Number of images of Neuroblastoma is 704\n",
      "Number of images of Adenocarcinoma is 704\n",
      "Number of images of Adenocarcinoma is 608\n"
     ]
    }
   ],
   "source": [
    "for t in mapping:\n",
    "    num_in = len([f for f in os.listdir(os.path.join('../images/', t))])\n",
    "    print(f'Number of images of {mapping[t]} is {num_in}')"
   ]
  },
  {
   "cell_type": "markdown",
   "id": "15db07b9",
   "metadata": {},
   "source": [
    "Now, we have to create the labels file"
   ]
  },
  {
   "cell_type": "code",
   "execution_count": 32,
   "id": "82c2b244",
   "metadata": {},
   "outputs": [],
   "source": [
    "import pandas as pd \n",
    " \n",
    "df = pd.DataFrame(columns=['label'])\n",
    "df.index.name = 'filename'\n",
    "for t in mapping:\n",
    "    for f in os.listdir(os.path.join('../images/', t)):\n",
    "        df.loc[os.path.join(t, f), :] = mapping[t]\n",
    "\n",
    "df.to_csv('../images/labels.csv', index=True)"
   ]
  },
  {
   "cell_type": "code",
   "execution_count": 33,
   "id": "20032321",
   "metadata": {},
   "outputs": [
    {
     "data": {
      "text/html": [
       "<div>\n",
       "<style scoped>\n",
       "    .dataframe tbody tr th:only-of-type {\n",
       "        vertical-align: middle;\n",
       "    }\n",
       "\n",
       "    .dataframe tbody tr th {\n",
       "        vertical-align: top;\n",
       "    }\n",
       "\n",
       "    .dataframe thead th {\n",
       "        text-align: right;\n",
       "    }\n",
       "</style>\n",
       "<table border=\"1\" class=\"dataframe\">\n",
       "  <thead>\n",
       "    <tr style=\"text-align: right;\">\n",
       "      <th></th>\n",
       "      <th>filename</th>\n",
       "      <th>label</th>\n",
       "    </tr>\n",
       "  </thead>\n",
       "  <tbody>\n",
       "    <tr>\n",
       "      <th>0</th>\n",
       "      <td>A172/A172_Phase_A7_1_00d08h00m_3.tif</td>\n",
       "      <td>Glioblastoma</td>\n",
       "    </tr>\n",
       "    <tr>\n",
       "      <th>1</th>\n",
       "      <td>A172/A172_Phase_A7_2_02d04h00m_1.tif</td>\n",
       "      <td>Glioblastoma</td>\n",
       "    </tr>\n",
       "    <tr>\n",
       "      <th>2</th>\n",
       "      <td>A172/A172_Phase_B7_1_03d00h00m_3.tif</td>\n",
       "      <td>Glioblastoma</td>\n",
       "    </tr>\n",
       "    <tr>\n",
       "      <th>3</th>\n",
       "      <td>A172/A172_Phase_C7_2_01d04h00m_3.tif</td>\n",
       "      <td>Glioblastoma</td>\n",
       "    </tr>\n",
       "    <tr>\n",
       "      <th>4</th>\n",
       "      <td>A172/A172_Phase_C7_1_01d00h00m_2.tif</td>\n",
       "      <td>Glioblastoma</td>\n",
       "    </tr>\n",
       "    <tr>\n",
       "      <th>...</th>\n",
       "      <td>...</td>\n",
       "      <td>...</td>\n",
       "    </tr>\n",
       "    <tr>\n",
       "      <th>5234</th>\n",
       "      <td>SKOV3/SKOV3_Phase_E4_1_01d04h00m_2.tif</td>\n",
       "      <td>Adenocarcinoma</td>\n",
       "    </tr>\n",
       "    <tr>\n",
       "      <th>5235</th>\n",
       "      <td>SKOV3/SKOV3_Phase_E4_2_01d12h00m_4.tif</td>\n",
       "      <td>Adenocarcinoma</td>\n",
       "    </tr>\n",
       "    <tr>\n",
       "      <th>5236</th>\n",
       "      <td>SKOV3/SKOV3_Phase_G4_1_00d20h00m_1.tif</td>\n",
       "      <td>Adenocarcinoma</td>\n",
       "    </tr>\n",
       "    <tr>\n",
       "      <th>5237</th>\n",
       "      <td>SKOV3/SKOV3_Phase_H4_2_01d00h00m_3.tif</td>\n",
       "      <td>Adenocarcinoma</td>\n",
       "    </tr>\n",
       "    <tr>\n",
       "      <th>5238</th>\n",
       "      <td>SKOV3/SKOV3_Phase_H4_1_01d04h00m_2.tif</td>\n",
       "      <td>Adenocarcinoma</td>\n",
       "    </tr>\n",
       "  </tbody>\n",
       "</table>\n",
       "<p>5239 rows × 2 columns</p>\n",
       "</div>"
      ],
      "text/plain": [
       "                                    filename           label\n",
       "0       A172/A172_Phase_A7_1_00d08h00m_3.tif    Glioblastoma\n",
       "1       A172/A172_Phase_A7_2_02d04h00m_1.tif    Glioblastoma\n",
       "2       A172/A172_Phase_B7_1_03d00h00m_3.tif    Glioblastoma\n",
       "3       A172/A172_Phase_C7_2_01d04h00m_3.tif    Glioblastoma\n",
       "4       A172/A172_Phase_C7_1_01d00h00m_2.tif    Glioblastoma\n",
       "...                                      ...             ...\n",
       "5234  SKOV3/SKOV3_Phase_E4_1_01d04h00m_2.tif  Adenocarcinoma\n",
       "5235  SKOV3/SKOV3_Phase_E4_2_01d12h00m_4.tif  Adenocarcinoma\n",
       "5236  SKOV3/SKOV3_Phase_G4_1_00d20h00m_1.tif  Adenocarcinoma\n",
       "5237  SKOV3/SKOV3_Phase_H4_2_01d00h00m_3.tif  Adenocarcinoma\n",
       "5238  SKOV3/SKOV3_Phase_H4_1_01d04h00m_2.tif  Adenocarcinoma\n",
       "\n",
       "[5239 rows x 2 columns]"
      ]
     },
     "execution_count": 33,
     "metadata": {},
     "output_type": "execute_result"
    }
   ],
   "source": [
    "pd.read_csv('../images/labels.csv')"
   ]
  },
  {
   "cell_type": "markdown",
   "id": "2fffafbd",
   "metadata": {},
   "source": [
    "Now that we've created a labels file, we can create the PyTorch dataset and generate our train-test split"
   ]
  },
  {
   "cell_type": "code",
   "execution_count": 68,
   "id": "a64e7693",
   "metadata": {},
   "outputs": [],
   "source": [
    "from torch.utils.data import Dataset\n",
    "from torchvision import transforms\n",
    "from PIL import Image\n",
    "\n",
    "class CellDataset(Dataset):\n",
    "    def __init__(self, images_path, label_path):\n",
    "        self.images_path = images_path\n",
    "        self.labels = pd.read_csv(label_path)\n",
    "        self.toimage = transforms.ToTensor()\n",
    "        \n",
    "    def __len__(self):\n",
    "        return self.labels.shape[0]\n",
    "    \n",
    "    def __getitem__(self, idx):\n",
    "        img_path, label = self.labels.iloc[idx]['filename'], self.labels.iloc[idx]['label']\n",
    "        img = Image.open(os.path.join(self.images_path, img_path))\n",
    "        return self.toimage(img), label\n",
    "            "
   ]
  },
  {
   "cell_type": "code",
   "execution_count": 69,
   "id": "08249290",
   "metadata": {},
   "outputs": [],
   "source": [
    "test = CellDataset('../images/', '../images/labels.csv')"
   ]
  },
  {
   "cell_type": "code",
   "execution_count": 71,
   "id": "a72b1d87",
   "metadata": {
    "scrolled": true
   },
   "outputs": [
    {
     "data": {
      "text/plain": [
       "torch.Size([1, 520, 704])"
      ]
     },
     "execution_count": 71,
     "metadata": {},
     "output_type": "execute_result"
    }
   ],
   "source": []
  },
  {
   "cell_type": "code",
   "execution_count": null,
   "id": "124510aa",
   "metadata": {},
   "outputs": [],
   "source": []
  }
 ],
 "metadata": {
  "kernelspec": {
   "display_name": "Python [conda env:base-data-science]",
   "language": "python",
   "name": "conda-env-base-data-science-py"
  },
  "language_info": {
   "codemirror_mode": {
    "name": "ipython",
    "version": 3
   },
   "file_extension": ".py",
   "mimetype": "text/x-python",
   "name": "python",
   "nbconvert_exporter": "python",
   "pygments_lexer": "ipython3",
   "version": "3.9.7"
  }
 },
 "nbformat": 4,
 "nbformat_minor": 5
}
